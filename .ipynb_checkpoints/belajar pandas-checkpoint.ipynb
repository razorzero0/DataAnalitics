{
 "cells": [
  {
   "cell_type": "code",
   "execution_count": 1,
   "id": "9bf5babb",
   "metadata": {},
   "outputs": [],
   "source": [
    "import matplotlib.pyplot as plt\n",
    "import numpy as np\n",
    "import pandas as pd  "
   ]
  },
  {
   "cell_type": "code",
   "execution_count": 13,
   "id": "10c305cd",
   "metadata": {},
   "outputs": [],
   "source": [
    "# Data for plotting\n",
    "df = pd.DataFrame( {\n",
    "        \"Name\": [\n",
    "            \"Braund, Mr. Owen Harris\",\n",
    "            \"Allen, Mr. William Henry\",\n",
    "            \"Bonnell, Miss. Elizabeth\",\n",
    "        ],\n",
    "        \"Age\": [22, 35, 58],\n",
    "        \"Sex\": [\"male\", \"male\", \"female\"],\n",
    "    })\n",
    "#create series\n",
    "# ages = pd.Series([22, 35, 58], name=\"Age\")\n",
    "#df[\"Age\"].describe()\n",
    "#df[\"Age\"].max()"
   ]
  },
  {
   "cell_type": "code",
   "execution_count": 27,
   "id": "708bb4c7",
   "metadata": {},
   "outputs": [],
   "source": [
    "# titanic = pd.read_csv(\"data/titanic.csv\")\n",
    "# titanic.head(10)\n",
    "#titanic.dtypes\n",
    "# titanic.to_excel(\"data/titanic.xlsx\",sheet_name=\"passenggers\",index=False)\n",
    "# titanic = pd.read_excel(\"data/titanic.xlsx\", sheet_name=\"passenggers\")\n",
    "# titanic.info()"
   ]
  },
  {
   "cell_type": "code",
   "execution_count": 83,
   "id": "0b2cf230",
   "metadata": {},
   "outputs": [],
   "source": [
    "titanic = pd.read_csv(\"data/titanic.csv\")\n",
    "# age_sex = titanic[[\"Age\", \"Sex\"]]\n",
    "# titanic[\"Age\"].shape\n",
    "# above35 = titanic[titanic[\"Age\"] > 35]\n",
    "# class23 = titanic[(titanic[\"Pclass\"] == 2) | (titanic[\"Pclass\"] == 3)]\n",
    "#class23 = titanic[(titanic[\"Pclass\"].isin([2,3])) & (titanic[\"SibSp\"] == 1)]\n",
    "# age_no_na = titanic[titanic[\"Age\"].notna()] \n",
    "# age_no_na.head(20)\n",
    "# adult_names = titanic.loc[titanic[\"Age\"] > 35, \"Name\"]\n",
    "# adult_names.head(10)\n",
    "# titanic.iloc[9:25, 2:5]\n",
    "# titanic.iloc[0:3, 3] = \"anonymous\"\n",
    "# titanic.iloc[0:3, 3:6]"
   ]
  },
  {
   "cell_type": "code",
   "execution_count": 134,
   "id": "8d3d8a58",
   "metadata": {},
   "outputs": [],
   "source": [
    "\n",
    "\n",
    "air_quality = pd.read_csv(\"data/air_quality_no2.csv\", index_col=0, parse_dates=True)\n",
    "# n10 = air_quality[air_quality[\"station_london\"] > 60]\n",
    "# air_quality[\"station_paris\"].plot()\n",
    "# n10 = air_quality.head(10)\n",
    "# n10.plot.scatter(x=\"station_london\", y=\"station_paris\", alpha=0.5)\n",
    "# [\n",
    "#     method_name\n",
    "#     for method_name in dir(air_quality.plot)\n",
    "#     if not method_name.startswith(\"_\")\n",
    "# ]\n",
    "# air_quality.plot.box()\n",
    "# axs = air_quality.plot.area(figsize=(12, 4), subplots=True)\n",
    "# fig, axs = plt.subplots(figsize=(12, 4))        # Create an empty Matplotlib Figure and Axes\n",
    "# air_quality.plot.area(ax=axs)                   # Use pandas to put the area plot on the prepared Figure/Axes\n",
    "# axs.set_ylabel(\"NO$_2$ concentration\")          # Do any Matplotlib customization you like\n",
    "# fig.savefig(\"no2_concentrations.png\")           # Save the Figure/Axes using the existing Matplotlib method.\n",
    "# plt.show()                                      # Display the plot"
   ]
  },
  {
   "cell_type": "code",
   "execution_count": 140,
   "id": "d3b7f94e",
   "metadata": {},
   "outputs": [],
   "source": [
    "# How to create new columns derived from existing columns\n",
    "air_quality = pd.read_csv(\"data/air_quality_no2.csv\", index_col=0, parse_dates=True)\n",
    "# air_quality.head()\n",
    "air_quality[\"london_mg_per_cubic\"] = air_quality[\"station_london\"] * 1.882\n",
    "air_quality[\"ratio_paris_antwerp\"] = (\n",
    "    air_quality[\"station_paris\"] / air_quality[\"station_antwerp\"]\n",
    ")\n",
    "air_quality_renamed = air_quality.rename(\n",
    "    columns={\n",
    "        \"station_antwerp\": \"BETR801\",\n",
    "        \"station_paris\": \"FR04014\",\n",
    "        \"station_london\": \"London Westminster\",\n",
    "    }\n",
    ")\n",
    "# air_quality.head()\n",
    "# air_quality_renamed = air_quality_renamed.rename(columns=str.lower)\n",
    "# air_quality_renamed.head()"
   ]
  },
  {
   "cell_type": "code",
   "execution_count": 156,
   "id": "f68dad62",
   "metadata": {},
   "outputs": [
    {
     "data": {
      "text/plain": [
       "Pclass\n",
       "3    491\n",
       "1    216\n",
       "2    184\n",
       "Name: count, dtype: int64"
      ]
     },
     "execution_count": 156,
     "metadata": {},
     "output_type": "execute_result"
    }
   ],
   "source": [
    "# How to calculate summary statistics\n",
    "titanic = pd.read_csv(\"data/titanic.csv\")\n",
    "# titanic.head()\n",
    "titanic[\"Age\"].mean()\n",
    "titanic[[\"Age\", \"Fare\"]].median()\n",
    "titanic[[\"Age\", \"Fare\"]].describe()\n",
    "titanic.agg(\n",
    "    {\n",
    "        \"Age\": [\"min\", \"max\", \"median\", \"skew\"],\n",
    "        \"Fare\": [\"min\", \"max\", \"median\", \"mean\"],\n",
    "    }\n",
    ")\n",
    "\n",
    "#What is the average age for male versus female Titanic passengers?\n",
    "titanic[[\"Sex\", \"Age\"]].groupby(\"Sex\").mean()\n",
    "titanic.groupby(\"Sex\").mean(numeric_only=True)\n",
    "titanic.groupby(\"Sex\")[\"Age\"].mean()\n",
    "\n",
    "# What is the mean ticket fare price for each of the sex and cabin class combinations?\n",
    "titanic.groupby([\"Sex\", \"Pclass\"])[\"Fare\"].mean()\n",
    "\n",
    "# What is the number of passengers in each of the cabin classes?\n",
    "titanic[\"Pclass\"].value_counts()"
   ]
  }
 ],
 "metadata": {
  "kernelspec": {
   "display_name": "Python 3 (ipykernel)",
   "language": "python",
   "name": "python3"
  },
  "language_info": {
   "codemirror_mode": {
    "name": "ipython",
    "version": 3
   },
   "file_extension": ".py",
   "mimetype": "text/x-python",
   "name": "python",
   "nbconvert_exporter": "python",
   "pygments_lexer": "ipython3",
   "version": "3.11.5"
  }
 },
 "nbformat": 4,
 "nbformat_minor": 5
}
