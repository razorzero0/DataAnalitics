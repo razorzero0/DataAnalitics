{
 "cells": [
  {
   "cell_type": "code",
   "execution_count": 66,
   "id": "ef52580f",
   "metadata": {},
   "outputs": [],
   "source": [
    "import pandas as pd\n",
    "import matplotlib.pyplot as plt\n",
    "from sklearn.datasets import load_iris\n",
    "import numpy as np\n"
   ]
  },
  {
   "cell_type": "code",
   "execution_count": 6,
   "id": "31fbb47c",
   "metadata": {},
   "outputs": [],
   "source": [
    "# belajr matplotlib\n",
    "# fig, ax = plt.subplots()  # Create a figure containing a single axes.\n",
    "# ax.scatter([1, 2, 3, 4,5], [1, 4, 2, 3,1])  # Plot some data on the axes.\n",
    "# ax.set_title(\"contoh\")\n",
    "# ax.set_ylabel(\"y label\")"
   ]
  },
  {
   "cell_type": "code",
   "execution_count": 7,
   "id": "b35eccb6",
   "metadata": {},
   "outputs": [],
   "source": [
    "# iris = load_iris()\n",
    "# df = pd.DataFrame(iris.data,columns=iris.feature_names)\n",
    "# df['species'] = iris.target\n",
    "# new = df.groupby('target').mean()\n",
    "# new.mean(axis=1)\n",
    "# df.set_index('target')\n",
    "\n",
    "\n",
    "# df.drop(columns = 'target')\n",
    "# df.isna().values.any()\n"
   ]
  },
  {
   "cell_type": "code",
   "execution_count": null,
   "id": "876a8657",
   "metadata": {},
   "outputs": [],
   "source": []
  },
  {
   "cell_type": "code",
   "execution_count": 44,
   "id": "22c9b5ad",
   "metadata": {},
   "outputs": [],
   "source": [
    "iris = load_iris()\n",
    "data=pd.DataFrame({\n",
    "    'sepal length':iris.data[:,0],\n",
    "    'sepal width':iris.data[:,1],\n",
    "    'petal length':iris.data[:,2],\n",
    "    'petal width':iris.data[:,3],\n",
    "    'species':iris.target\n",
    "})\n",
    "# Import train_test_split function\n",
    "from sklearn.model_selection import train_test_split\n",
    "\n",
    "X=data.drop('species',axis=1)  # Features\n",
    "y=data['species']  # Labels\n",
    "\n",
    "# Split dataset into training set and test set\n",
    "X_train, X_test, y_train, y_test = train_test_split(X, y, test_size=0.2) # 80% training and 30% test\n",
    "\n"
   ]
  },
  {
   "cell_type": "markdown",
   "id": "d5eba916",
   "metadata": {},
   "source": [
    "# LINEAR REGRESSION"
   ]
  },
  {
   "cell_type": "code",
   "execution_count": 182,
   "id": "6abf3476",
   "metadata": {},
   "outputs": [
    {
     "name": "stdout",
     "output_type": "stream",
     "text": [
      "Fit a model X_train and calculate the MSE with Y_train: 0.05\n",
      "Fit a model X_train and calculate the MSE with X_test and Y_test: 0.05\n"
     ]
    }
   ],
   "source": [
    "# Import for Linear Regression\n",
    "import sklearn\n",
    "from sklearn.linear_model import LinearRegression\n",
    "#Create a LinearRegression Object\n",
    "lreg = LinearRegression()\n",
    "\n",
    "# Implement Linear Regression\n",
    "lreg.fit(X_train, y_train)\n",
    "# print(regr.score(X_test, y_test))\n",
    "# lreg.coef_\n",
    "# lreg.intercept_\n",
    "\n",
    "# Set a new column lining up the coefficients from the Linear Regression\n",
    "coeff_df = pd.DataFrame(X.columns)\n",
    "coeff_df['Coefficient Estimate'] = pd.Series(lreg.coef_)\n",
    "\n",
    "# Predictions on training and testing sets\n",
    "pred_train = lreg.predict(X_train)\n",
    "pred_test = lreg.predict(X_test)\n",
    "print('Fit a model X_train and calculate the MSE with Y_train: %.2f' % np.mean((y_train - pred_train) ** 2))\n",
    "print('Fit a model X_train and calculate the MSE with X_test and Y_test: %.2f' % np.mean((y_test-pred_test)**2))\n",
    "\n",
    "\n"
   ]
  },
  {
   "cell_type": "markdown",
   "id": "6715b169",
   "metadata": {},
   "source": [
    "# Random Forest Classifier"
   ]
  },
  {
   "cell_type": "code",
   "execution_count": 22,
   "id": "f2d84371",
   "metadata": {},
   "outputs": [
    {
     "data": {
      "text/plain": [
       "array([1, 1, 2, 2, 1, 1, 2, 0, 2, 2, 0, 1, 0, 1, 0, 0, 2, 1, 2, 2, 0, 0,\n",
       "       1, 1, 2, 1, 2, 2, 2, 2])"
      ]
     },
     "execution_count": 22,
     "metadata": {},
     "output_type": "execute_result"
    }
   ],
   "source": [
    "#Import Random Forest Model\n",
    "from sklearn.ensemble import RandomForestClassifier\n",
    "\n",
    "#Create a Gaussian Classifier\n",
    "clf=RandomForestClassifier(n_estimators=100)\n",
    "\n",
    "#Train the model using the training sets y_pred=clf.predict(X_test)\n",
    "clf.fit(X_train,y_train)\n",
    "\n",
    "y_pred=clf.predict(X_test)\n",
    "y_pred\n"
   ]
  },
  {
   "cell_type": "code",
   "execution_count": 29,
   "id": "86b8a720",
   "metadata": {},
   "outputs": [
    {
     "name": "stdout",
     "output_type": "stream",
     "text": [
      "Accuracy: 0.9666666666666667\n"
     ]
    }
   ],
   "source": [
    "#Import scikit-learn metrics module for accuracy calculation\n",
    "from sklearn import metrics\n",
    "# Model Accuracy, how often is the classifier correct?\n",
    "print(\"Accuracy:\",metrics.accuracy_score(y_test, y_pred))\n"
   ]
  },
  {
   "cell_type": "code",
   "execution_count": 20,
   "id": "bcd9d4d7",
   "metadata": {},
   "outputs": [],
   "source": [
    "# species_idx = clf.predict([[1, 1, 1, 2]])[0]\n",
    "# iris.target_names[species_idx]"
   ]
  },
  {
   "cell_type": "code",
   "execution_count": null,
   "id": "94933d65",
   "metadata": {},
   "outputs": [],
   "source": [
    "#Finding importand feature"
   ]
  },
  {
   "cell_type": "code",
   "execution_count": 21,
   "id": "9d3a69e7",
   "metadata": {},
   "outputs": [
    {
     "data": {
      "text/plain": [
       "petal length (cm)    0.450870\n",
       "petal width (cm)     0.424850\n",
       "sepal length (cm)    0.097271\n",
       "sepal width (cm)     0.027009\n",
       "dtype: float64"
      ]
     },
     "execution_count": 21,
     "metadata": {},
     "output_type": "execute_result"
    }
   ],
   "source": [
    "import pandas as pd\n",
    "feature_imp = pd.Series(clf.feature_importances_,index=iris.feature_names).sort_values(ascending=False)\n",
    "feature_imp\n"
   ]
  }
 ],
 "metadata": {
  "kernelspec": {
   "display_name": "Python 3 (ipykernel)",
   "language": "python",
   "name": "python3"
  },
  "language_info": {
   "codemirror_mode": {
    "name": "ipython",
    "version": 3
   },
   "file_extension": ".py",
   "mimetype": "text/x-python",
   "name": "python",
   "nbconvert_exporter": "python",
   "pygments_lexer": "ipython3",
   "version": "3.11.5"
  }
 },
 "nbformat": 4,
 "nbformat_minor": 5
}
