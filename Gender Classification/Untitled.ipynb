{
 "cells": [
  {
   "cell_type": "code",
   "execution_count": 257,
   "id": "7d7e3336",
   "metadata": {},
   "outputs": [],
   "source": [
    "import pandas as pd\n",
    "import matplotlib.pyplot as plt\n",
    "import numpy as np"
   ]
  },
  {
   "cell_type": "markdown",
   "id": "0ec0cb64",
   "metadata": {},
   "source": [
    "## Data Cleaning"
   ]
  },
  {
   "cell_type": "code",
   "execution_count": 7,
   "id": "a641b959",
   "metadata": {},
   "outputs": [],
   "source": [
    "# df = pd.read_csv('gender.csv')\n",
    "# # df = df.groupby('Favorite Beverage')['Gender'].apply(lambda tags: ','.join(tags))\n",
    "# ## menghapus column gender\n",
    "# # df = df.drop(columns='Gender')\n",
    "# # menghapus row yang colom gendernya null\n",
    "# df = df[df['Favorite Color'].isna() == False]\n",
    "# ## count duplicate\n",
    "# # df.duplicated().value_counts()\n",
    "# df = df.drop_duplicates()\n",
    "# # df = df.groupby('Favorite Music Genre')['Gender'].value_counts().unstack(fill_value=0)\n",
    "\n",
    "# # df.plot(figsize=(12, 6))\n",
    "\n",
    "# # type(df['Gender'])\n",
    "\n",
    "# # for i in df:\n",
    "# #     print(df[i].value_counts())\n",
    "\n",
    "\n",
    "# df\n"
   ]
  },
  {
   "cell_type": "markdown",
   "id": "ee58a096",
   "metadata": {},
   "source": [
    "## Data Preparation"
   ]
  },
  {
   "cell_type": "code",
   "execution_count": 4,
   "id": "d5d13beb",
   "metadata": {},
   "outputs": [
    {
     "name": "stderr",
     "output_type": "stream",
     "text": [
      "No artists with labels found to put in legend.  Note that artists whose label start with an underscore are ignored when legend() is called with no argument.\n"
     ]
    },
    {
     "data": {
      "text/plain": [
       "<matplotlib.legend.Legend at 0x1fbc22c9790>"
      ]
     },
     "execution_count": 4,
     "metadata": {},
     "output_type": "execute_result"
    },
    {
     "data": {
      "image/png": "[encoded data removed]",
      "text/plain": [
       "<Figure size 640x480 with 1 Axes>"
      ]
     },
     "metadata": {},
     "output_type": "display_data"
    }
   ],
   "source": [
    "from sklearn.ensemble import RandomForestClassifier\n",
    "# Import train_test_split function\n",
    "from sklearn.model_selection import train_test_split\n",
    "from sklearn.metrics import accuracy_score, classification_report\n",
    "\n",
    "df = pd.read_csv('gender.csv')\n",
    "\n",
    "df = pd.read_csv('gender.csv')\n",
    "# df = df[df['Favorite Color'].isna() == False]\n",
    "df = df.fillna({'Favorite Color':'cool'})\n",
    "filter_gender = {'F':0,'M':1}\n",
    "df = df.replace(filter_gender)\n",
    "df = df.drop_duplicates()\n",
    "data = pd.get_dummies(df, columns = ['Favorite Color','Favorite Music Genre','Favorite Beverage','Favorite Soft Drink']) \n",
    "plt.hist(df['Gender'])\n",
    "plt.ylim(1,50)\n",
    "plt.xlabel('target')\n",
    "plt.ylabel('jumlah data ')\n",
    "# Mengubah ke tipe tertentu\n",
    "# one_hot_encoded_data.astype(int)\n",
    "\n",
    "# Menggabungkan colomn\n",
    "# df.join(one_hot_encoded_data.drop(['Gender'], axis=1))\n"
   ]
  },
  {
   "cell_type": "markdown",
   "id": "abfa131f",
   "metadata": {},
   "source": [
    "## splitting data"
   ]
  },
  {
   "cell_type": "code",
   "execution_count": 46,
   "id": "3361f2b9",
   "metadata": {},
   "outputs": [],
   "source": [
    "# Split the data into features (X) and target (y)\n",
    "X = data.drop(['Gender'], axis=1)\n",
    "y = data['Gender']\n"
   ]
  },
  {
   "cell_type": "markdown",
   "id": "57fba166",
   "metadata": {},
   "source": [
    "## Training Data Random Forest"
   ]
  },
  {
   "cell_type": "code",
   "execution_count": null,
   "id": "886d918c",
   "metadata": {},
   "outputs": [],
   "source": [
    "from sklearn.ensemble import RandomForestClassifier\n",
    "# Import train_test_split function\n",
    "from sklearn.model_selection import train_test_split\n",
    "from sklearn.metrics import accuracy_score, classification_report\n",
    "\n",
    "\n",
    "# # Split the data into training and test sets\n",
    "X_train, X_test, y_train, y_test = train_test_split(X, y, test_size=0.2)\n",
    "rf = RandomForestClassifier(n_estimators=100,random_state=0)\n",
    "rf.fit(X_train, y_train)\n",
    "\n",
    "#prediksi per sample (13 sample)\n",
    "y_pred = rf.predict(X_test)\n",
    "accuracy = accuracy_score(y_test, y_pred)\n",
    "print(\"Accuracy:\", accuracy)\n",
    "\n",
    "\n",
    "\n",
    "# Precision, recall, dan F1-score\n",
    "report = classification_report(y_test, y_pred)\n",
    "print(\"Classification Report:\")\n",
    "print(report)\n",
    "\n",
    "# prediksi per row\n",
    "y_pred = rf.predict(X.tail(1))[0]\n",
    "print(f\"prediksi {y_pred}\")\n",
    "\n",
    "\n",
    "\n"
   ]
  },
  {
   "cell_type": "markdown",
   "id": "397b039a",
   "metadata": {},
   "source": [
    "# Training Model Naive Bayes\n"
   ]
  },
  {
   "cell_type": "code",
   "execution_count": 181,
   "id": "d421b272",
   "metadata": {},
   "outputs": [
    {
     "name": "stdout",
     "output_type": "stream",
     "text": [
      "Number of mislabeled points out of a total 13 points : 7\n",
      "Accuracy: 0.46153846153846156\n"
     ]
    },
    {
     "data": {
      "text/plain": [
       "(13,)"
      ]
     },
     "execution_count": 181,
     "metadata": {},
     "output_type": "execute_result"
    }
   ],
   "source": [
    "from sklearn.naive_bayes import GaussianNB\n",
    "# Split the data into training and test sets\n",
    "X_train, X_test, y_train, y_test = train_test_split(X, y, test_size=0.2)\n",
    "gnb = GaussianNB()\n",
    "gnb.fit(X_train, y_train)\n",
    "y_pred = gnb.predict(X_test)\n",
    "print(\"Number of mislabeled points out of a total %d points : %d\" % (X_test.shape[0], (y_test != y_pred).sum()))\n",
    "accuracy = accuracy_score(y_test, y_pred)\n",
    "print(\"Accuracy:\", accuracy)\n",
    "y_test.shape"
   ]
  },
  {
   "cell_type": "markdown",
   "id": "ff30aa0b",
   "metadata": {},
   "source": [
    "# Training Model SVM"
   ]
  },
  {
   "cell_type": "code",
   "execution_count": 216,
   "id": "a926e52a",
   "metadata": {},
   "outputs": [
    {
     "name": "stdout",
     "output_type": "stream",
     "text": [
      "Accuracy: 0.38461538461538464\n"
     ]
    }
   ],
   "source": [
    "from sklearn import svm\n",
    "# Split the data into training and test sets\n",
    "X_train, X_test, y_train, y_test = train_test_split(X, y, test_size=0.2)\n",
    "clf = svm.SVC()\n",
    "clf.fit(X_train, y_train)\n",
    "clf.predict(X_test)\n",
    "accuracy = accuracy_score(y_test, y_pred)\n",
    "print(\"Accuracy:\", accuracy)"
   ]
  },
  {
   "cell_type": "markdown",
   "id": "f2e767b9",
   "metadata": {},
   "source": [
    "# Training Model KNNeighbors"
   ]
  },
  {
   "cell_type": "code",
   "execution_count": 263,
   "id": "f080cbe3",
   "metadata": {},
   "outputs": [
    {
     "name": "stdout",
     "output_type": "stream",
     "text": [
      "[0]\n"
     ]
    },
    {
     "data": {
      "text/plain": [
       "(array([0., 1., 1.]),\n",
       " array([0., 0., 1., 1.]),\n",
       " <BarContainer object of 3 artists>)"
      ]
     },
     "execution_count": 263,
     "metadata": {},
     "output_type": "execute_result"
    },
    {
     "data": {
      "image/png": "[encoded data removed]",
      "text/plain": [
       "<Figure size 640x480 with 1 Axes>"
      ]
     },
     "metadata": {},
     "output_type": "display_data"
    }
   ],
   "source": [
    "from sklearn.neighbors import KNeighborsClassifier\n",
    "X = [[0], [1], [2], [3]]\n",
    "y = [0, 0, 1, 1]\n",
    "neigh = KNeighborsClassifier(n_neighbors=3)\n",
    "neigh.fit(X, y)\n",
    "print(neigh.predict([[1.49]]))\n",
    "plt.hist(np.ravel(X),y)\n"
   ]
  }
 ],
 "metadata": {
  "kernelspec": {
   "display_name": "Python 3 (ipykernel)",
   "language": "python",
   "name": "python3"
  },
  "language_info": {
   "codemirror_mode": {
    "name": "ipython",
    "version": 3
   },
   "file_extension": ".py",
   "mimetype": "text/x-python",
   "name": "python",
   "nbconvert_exporter": "python",
   "pygments_lexer": "ipython3",
   "version": "3.11.5"
  }
 },
 "nbformat": 4,
 "nbformat_minor": 5
}
